{
 "cells": [
  {
   "cell_type": "code",
   "execution_count": null,
   "metadata": {},
   "outputs": [],
   "source": [
    "\"\"\"Is C3H+ Present in the Horsehead Nebula?\"\"\"\n",
    "\n",
    "__authors__ = \"Ryan C. Fortenberry\"\n",
    "__credits__ = [\"Mary J. Van Vleet\"]\n",
    "__email__   = [\"r410@olemiss.edu\",\"mary.vanvleet@spelman.edu\"]\n",
    "\n",
    "__copyright__ = \"(c) 2008-2021, The Psi4Education Developers\"\n",
    "__license__   = \"BSD-3-Clause\"\n",
    "__date__      = \"2021-04-20\""
   ]
  },
  {
   "cell_type": "code",
   "execution_count": null,
   "metadata": {},
   "outputs": [],
   "source": [
    "import psi4\n",
    "import numpy as np\n",
    "import matplotlib.pyplot as plt\n",
    "import fortecubeview as fview\n",
    "import sys"
   ]
  },
  {
   "cell_type": "markdown",
   "metadata": {},
   "source": [
    "## Is C3H+ Present in the Horsehead Nebula?\n",
    "The purpose of this lab is to introduce you to how rotational spectroscopy can be used to detect molecules in the interstellar medium. Before beginning Part 1 of the experiment, please read over the Introduction in the Lab Manual (attached on Moodle). The remaining parts of the experiment are discussed both in the lab manual and in this Jupyter Notebook."
   ]
  },
  {
   "cell_type": "markdown",
   "metadata": {},
   "source": [
    "### Part 1: C3H+ B-type Rotational Constants"
   ]
  },
  {
   "cell_type": "markdown",
   "metadata": {},
   "source": [
    "The code below creates a C3H+ molecule in Psi4. Note the syntax, in which the first line specifies the charge (+1) and multiplicity (1) for our molecule, and the remaining lines give the Cartesian coordintes in units of Angstroms. Also note that this first geometry is just a *guess*. We know that the molecule has to be linear, so we can create the molecule by specifying the z-coordinate for each atom. C-C bond lengths of 1.5 Angstrom and C-H bond lengths of 1.0 Angstrom were used as rough initial guesses."
   ]
  },
  {
   "cell_type": "code",
   "execution_count": null,
   "metadata": {},
   "outputs": [],
   "source": [
    "c3hplus = psi4.geometry(\"\"\"\n",
    "+1 1\n",
    "C 0.0 0.0 0.0\n",
    "C 0.0 0.0 1.5\n",
    "C 0.0 0.0 3.0\n",
    "H 0.0 0.0 4.0\n",
    "\"\"\")"
   ]
  },
  {
   "cell_type": "markdown",
   "metadata": {},
   "source": [
    "We can use a new (to us) Python package called fortecubeview (abbreviated fview) to visualize the results and make sure the molecule looks linear as expected. You can click and drag the molecule to rotate, or scroll to zoom in and out."
   ]
  },
  {
   "cell_type": "code",
   "execution_count": null,
   "metadata": {},
   "outputs": [],
   "source": [
    "fview.geom(molecule=c3hplus)"
   ]
  },
  {
   "cell_type": "markdown",
   "metadata": {},
   "source": [
    "Next, we need to optimize the geometry of the molecule via Psi4's optimize function. For now, we'll use the HF/STO-3G method. Note that the optimize function updates the C3H+ molecule defined above, so after this function call the ch3plus variable will refer to this new geometry. \n",
    "\n",
    "For convenience and ease of visualization, the code below also asks Psi4 to print the output coordinates, and asks fview to generate a 3D model of the molecule."
   ]
  },
  {
   "cell_type": "code",
   "execution_count": null,
   "metadata": {
    "scrolled": true
   },
   "outputs": [],
   "source": [
    "psi4.optimize('hf/sto-3g',molecule=c3hplus)\n",
    "psi4.set_output_file('c3h+_hf_sto3g.dat')\n",
    "c3hplus.print_out_in_angstrom()\n",
    "c3hplus.print_distances()\n",
    "!cat 'c3h+_hf_sto3g.dat'\n",
    "fview.geom(molecule=c3hplus)"
   ]
  },
  {
   "cell_type": "markdown",
   "metadata": {},
   "source": [
    "Our next job is to determine the rotational constants for this molecule at the optimized geometry. Psi4 makes this very easy! \n",
    "\n",
    "*Activity*: The Psi4 output is in wavenumbers (cm^-1). Convert the results to MHz so as to compare to experiment. Also conver the results to GHz (needed for the report questions at the end of this document)."
   ]
  },
  {
   "cell_type": "code",
   "execution_count": null,
   "metadata": {
    "code_folding": [],
    "scrolled": true
   },
   "outputs": [],
   "source": [
    "# Find rotational constants\n",
    "rot_conts_wn = psi4.core.Molecule.rotational_constants(c3hplus).to_array() # in cm^-1\n",
    "print(rot_conts_wn,\" in cm^-1\")\n",
    "\n",
    "# convert to MHz\n",
    "c =   # speed of light in m/s\n",
    "rot_conts_MHz = \n",
    "print(rot_conts_MHz,\" in MHz\")\n",
    "\n",
    "rot_conts_GHz = \n",
    "print(rot_conts_GHz,\" in GHz\")\n",
    "\n",
    "B_c3hplus_hf_sto3g = rot_conts_GHz[1]\n",
    "print(\"For C3H+, B is \",B_c3hplus_hf_sto3g, \"GHz\")"
   ]
  },
  {
   "cell_type": "markdown",
   "metadata": {},
   "source": [
    "*Activity:* Repeat the above procedure for the other theory methods and basis sets discussed in the lab manual. Be sure to print out your B constants in GHz. The calculations with bigger basis sets and higher levels of theory can take a few minutes to run, so be patient. Feel free to add additional code blocks as needed. "
   ]
  },
  {
   "cell_type": "code",
   "execution_count": null,
   "metadata": {},
   "outputs": [],
   "source": []
  },
  {
   "cell_type": "markdown",
   "metadata": {},
   "source": [
    "### Part 2: B-type rotational constants of other linear molecules\n",
    "Is C3H+ the carrier of the rotational lines, or can we identify another molecule/ion that fits the experimental data better? To investigate this question, you will examine the B-type rotational constants of some other closed-shell linear molecules."
   ]
  },
  {
   "cell_type": "markdown",
   "metadata": {},
   "source": [
    "*Activity*: Create a new linear molecule: HCN. Your initial geometry guess doesn't have to be perfect, just reasonable. Make sure to input the appropriate charge and multiplicity for this molecule."
   ]
  },
  {
   "cell_type": "code",
   "execution_count": null,
   "metadata": {},
   "outputs": [],
   "source": []
  },
  {
   "cell_type": "markdown",
   "metadata": {},
   "source": [
    "*Activity*: Perform a geometry optimization with B3LYP/cc-pVDZ. Using this geometry, determine the B rotational constant for HCN in units of GHz."
   ]
  },
  {
   "cell_type": "code",
   "execution_count": null,
   "metadata": {},
   "outputs": [],
   "source": []
  },
  {
   "cell_type": "markdown",
   "metadata": {},
   "source": [
    "*Activity*: Repeat the analysis for each of the following linear molecules: HCCF, HC3N, C4H-, C2O. Add additional code blocks as desired to complete the activity."
   ]
  },
  {
   "cell_type": "code",
   "execution_count": null,
   "metadata": {},
   "outputs": [],
   "source": []
  },
  {
   "cell_type": "markdown",
   "metadata": {},
   "source": [
    "### Part 3: Rotational Constants for non-linear molecules\n",
    "Now you will compute the rotational constants of a few non-linear molecules and fit their rotational constants to the linear model in Eq 2. from the lab manual. \n",
    "\n",
    "Non-linear molecules have three rotational constants -- A, B, and C -- corresponding to the three rotational degrees of freedom for a non-linear molecule. By convention, A refers to the largest frequency motion (which is also the smallest energy motion in wavenumbers), and C to the smallest frequency motion. An approximate equation for the rotational energy levels of non-linear molecules is \n",
    "\n",
    "$$\n",
    "E_J = (B+C)(J+1)\n",
    "$$"
   ]
  },
  {
   "cell_type": "markdown",
   "metadata": {},
   "source": [
    "The code below creates the geometry of HCCO-. This, and all molecules in Part 3, are \"quasi-linear\", meaning that the atoms are arranged in a chain, however the bond angles are not each 180° like would be expected for a linear molecule.\n",
    "\n",
    "For technical reasons, if we give an initial geometry guess that is linear, Psi4 will try and optimize to a linear structure, even if that isn't the global minimum geometry. To avoid this issue, best practice is to slightly displace one of the coordinates (below H was chosen) in the x- or y-direction. Any roughly-reasonable guess should be fine."
   ]
  },
  {
   "cell_type": "code",
   "execution_count": null,
   "metadata": {},
   "outputs": [],
   "source": [
    "hccominus = psi4.geometry(\"\"\"\n",
    "-1 1\n",
    "H 0.0 0.5 0.0\n",
    "C 0.0 0.0 1.0\n",
    "C 0.0 0.0 2.5\n",
    "O 0.0 0.0 4.0\n",
    "\"\"\")"
   ]
  },
  {
   "cell_type": "code",
   "execution_count": null,
   "metadata": {
    "scrolled": true
   },
   "outputs": [],
   "source": [
    "psi4.optimize('b3lyp/cc-pvdz',molecule=hccominus)\n",
    "psi4.set_output_file('hccominus.dat')\n",
    "hccominus.print_out_in_angstrom()\n",
    "hccominus.print_distances()\n",
    "!cat 'hccominus.dat'\n",
    "fview.geom(molecule=hccominus)"
   ]
  },
  {
   "cell_type": "markdown",
   "metadata": {},
   "source": [
    "*Question*: Based on Eqs. 2 and 5 in the lab manual, provide a formula to calculate the effective rotational constant, $B_{eff}$, from the actual rotational constants $A$, $B$, and/or $C$.\n",
    "\n",
    "$$\n",
    "B_{eff} = ?\n",
    "$$"
   ]
  },
  {
   "cell_type": "markdown",
   "metadata": {},
   "source": [
    "*Activity*: Find the effective rotational constant, $B_{eff}$, for HCCO-. "
   ]
  },
  {
   "cell_type": "code",
   "execution_count": null,
   "metadata": {},
   "outputs": [],
   "source": [
    "# Find rotational constants\n",
    "rot_conts_wn = psi4.core.Molecule.rotational_constants(hccominus).to_array() # in cm^-1\n",
    "print(rot_conts_wn,\" in cm^-1\")\n",
    "\n",
    "# convert to MHz\n",
    "c =  3e8 # speed of light in m/s\n",
    "rot_conts_MHz = \n",
    "print(rot_conts_MHz,\" in MHz\")\n",
    "\n",
    "rot_conts_GHz = \n",
    "print(rot_conts_GHz,\" in GHz\")\n",
    "\n",
    "Beff_hccominus = \n",
    "print(\"For HCCO-, Beff is \",Beff_hccominus, \"GHz\")"
   ]
  },
  {
   "cell_type": "markdown",
   "metadata": {},
   "source": [
    "*Activity*: Determine the rotational constants (A, B, C, and Beff) for the following non-linear molecules: NNOH+, HOCO+, C3H-, HCCN, and HOCN. Add additional code blocks to your notebook as needed. "
   ]
  },
  {
   "cell_type": "code",
   "execution_count": null,
   "metadata": {},
   "outputs": [],
   "source": []
  },
  {
   "cell_type": "markdown",
   "metadata": {},
   "source": [
    "### Report and Summary"
   ]
  },
  {
   "cell_type": "markdown",
   "metadata": {},
   "source": [
    "#### Part 1: C3H+ B-type Rotational Constants\n",
    "\n",
    "Fill out the table of rotational constants (in GHz) for C3H+ using different methods and basis sets. (Note: you can edit this table directly by double clicking on this text).\n",
    "\n",
    "| Method/Basis Set     | B (GHz) |\n",
    "| ----------- | ----------- |\n",
    "| HF/STO-3G        |        |\n",
    "| HF/6-31G(d)      |        |\n",
    "| HF/cc-pVTZ       |        |\n",
    "| HF/cc-pVDZ       |        |\n",
    "| B3LLYP/cc-pVDZ   |        |\n",
    "| MP2/cc-pVDZ      |        |\n",
    "| CCSD/cc-pVDZ     |        |\n"
   ]
  },
  {
   "cell_type": "markdown",
   "metadata": {},
   "source": [
    "*Question*: How does the change in basis set affect the primary rotational constant for C3H+?"
   ]
  },
  {
   "cell_type": "markdown",
   "metadata": {},
   "source": []
  },
  {
   "cell_type": "markdown",
   "metadata": {},
   "source": [
    "*Question*: How does the change in method affect the primary rotational constant for this molecule?"
   ]
  },
  {
   "cell_type": "markdown",
   "metadata": {},
   "source": []
  },
  {
   "cell_type": "markdown",
   "metadata": {},
   "source": [
    "*Question*: Compared to the experimental value, what is the most accurate method? The most accurate basis set? What would be the most accurate method/basis set combination?"
   ]
  },
  {
   "cell_type": "markdown",
   "metadata": {},
   "source": []
  },
  {
   "cell_type": "markdown",
   "metadata": {},
   "source": [
    "*Question*: Would you expect this combination to give the most accurate result? Why or why not?"
   ]
  },
  {
   "cell_type": "markdown",
   "metadata": {},
   "source": []
  },
  {
   "cell_type": "markdown",
   "metadata": {},
   "source": [
    "#### Part 2: B-type rotational constants for linear molecules\n",
    "\n",
    "Fill out the table of rotational constants (in GHz) for the molecules below based on your B3LYP/cc-pVDZ calculations.\n",
    "\n",
    "| Molecule     | B (GHz) |\n",
    "| ----------- | ----------- |\n",
    "| HCCN        |        |\n",
    "| HCCF        |        |\n",
    "| HC3N        |        |\n",
    "| C4H-        |        |\n",
    "| C2O         |        |\n",
    "\n"
   ]
  },
  {
   "cell_type": "markdown",
   "metadata": {},
   "source": [
    "#### Part 3: Rotational constants for non-linear molecules\n",
    "\n",
    "Fill out the table of rotational constants (in GHz) for the non-linear molecules below.\n",
    "\n",
    "| Molecule     | A (GHz) |B (GHz) |C (GHz) |Beff (GHz) |\n",
    "| -----------  | ------- |------- |------- |------- |\n",
    "| HCCO-        |         |        |        |        |\n",
    "| NNOH+        |         |        |        |        |\n",
    "| HOCO+        |         |        |        |        |\n",
    "| C3H-         |         |        |        |        |\n",
    "| HCCN         |         |        |        |        |\n",
    "| HOCN         |         |        |        |        |\n"
   ]
  },
  {
   "cell_type": "markdown",
   "metadata": {},
   "source": [
    "*Question*: You may have noticed that all of the molecules chosen, whether they are cations, anions, or neutrals, are all closed-shell.  The reason comes from the very close fine-splitting observed in rotational lines of open-shell molecules. The lines observed did not have this splitting present. This is one way to eliminate carriers of lines.  Another is simply the calculated rotational constants themselves. How does this let you eliminate some of the above molecules as carriers, and what molecules did you easily eliminate?"
   ]
  },
  {
   "cell_type": "markdown",
   "metadata": {},
   "source": []
  },
  {
   "cell_type": "markdown",
   "metadata": {},
   "source": [
    "*Question*: Compare all of the B3LYP/cc-pVDZ $B$ (for linear molecules) and $B_{eff}$ values (for non-linear molecules). Which three have the closest B-type constant to that from the lines originally observed in Horsehead nebula PDR?"
   ]
  },
  {
   "cell_type": "markdown",
   "metadata": {},
   "source": []
  },
  {
   "cell_type": "markdown",
   "metadata": {},
   "source": [
    "*Question*: What molecule do you believe is the carrier of these astronomical rotational lines? Why, and what may you not be considering (Hint: Don’t forget $A$)?"
   ]
  },
  {
   "cell_type": "markdown",
   "metadata": {},
   "source": []
  },
  {
   "cell_type": "markdown",
   "metadata": {},
   "source": [
    "*Summarize*: In 500 words or less, summarize the objective, procedure, main results, and conclusion(s) from today's experiment."
   ]
  },
  {
   "cell_type": "code",
   "execution_count": null,
   "metadata": {},
   "outputs": [],
   "source": []
  }
 ],
 "metadata": {
  "kernelspec": {
   "display_name": "Python 3",
   "language": "python",
   "name": "python3"
  },
  "language_info": {
   "codemirror_mode": {
    "name": "ipython",
    "version": 3
   },
   "file_extension": ".py",
   "mimetype": "text/x-python",
   "name": "python",
   "nbconvert_exporter": "python",
   "pygments_lexer": "ipython3",
   "version": "3.7.6"
  }
 },
 "nbformat": 4,
 "nbformat_minor": 4
}
